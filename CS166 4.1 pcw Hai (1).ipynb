{
 "cells": [
  {
   "cell_type": "code",
   "execution_count": 35,
   "metadata": {},
   "outputs": [
    {
     "name": "stdout",
     "output_type": "stream",
     "text": [
      "p**3*(p - 1)**5*(28.0*p - 84.0)\n"
     ]
    }
   ],
   "source": [
    "import sympy\n",
    "# Use p as a symbolic variable\n",
    "from sympy.abc import p\n",
    "# The binomial coefficient function (n choose k)\n",
    "from scipy.special import comb\n",
    "result = (\n",
    "(1-p) * comb(8, 3) * p**3 * (1-p)**(8-3) +\n",
    "p * comb(8, 2) * p**2 * (1-p)**(8-2)+p * comb(8, 3) * p**3 * (1-p)**(8-3))\n",
    "print(sympy.simplify(result))"
   ]
  },
  {
   "cell_type": "code",
   "execution_count": 36,
   "metadata": {},
   "outputs": [
    {
     "data": {
      "image/png": "[encoded data removed]",
      "text/plain": [
       "<Figure size 432x288 with 1 Axes>"
      ]
     },
     "metadata": {
      "needs_background": "light"
     },
     "output_type": "display_data"
    }
   ],
   "source": [
    "from matplotlib import pyplot as plt \n",
    "import numpy as np\n",
    "\n",
    "def plot(a, x0=0.1, iterations=50):\n",
    "    \"\"\" Plot a cobweb graph \n",
    "    \n",
    "        It does 50 iterations to plot the graph. \n",
    "        \n",
    "        The default value of x0 is 0.1 and it must \n",
    "        be in the interval ]0, 1[\n",
    "    \"\"\"\n",
    "\n",
    "    # If x0 isn't valid \n",
    "    if x0 <= 0 or x0 >= 1: return\n",
    "\n",
    "    plt.title(\"Cobweb Plot\")\n",
    "\n",
    "    # Plot f(x) \n",
    "    x = np.linspace(0, 1, 1000)\n",
    "    fx = a * x**3*(x - 1)**5*(28.0*x - 84.0)\n",
    "    plt.plot(x, fx, color=\"black\", label=\"f(x) = ax(1-x)\")\n",
    "    \n",
    "    # Plot y = x\n",
    "    plt.plot([0, 1], [0, 1], color=\"red\")\n",
    "\n",
    "    # Plot f^50(x0)\n",
    "    last_x, last_y = x0, 0\n",
    "    for _ in range(iterations):\n",
    "        next_x = a * last_x**3 *(last_x-1)**5*(28*last_x-84)\n",
    "        # Plot vertical line \n",
    "        plt.plot([last_x, last_x], [last_y, next_x], color=\"black\")\n",
    "        # Plot horizontal line\n",
    "        plt.plot([last_x, next_x], [next_x, next_x], color=\"red\")\n",
    "\n",
    "        last_x, last_y = next_x, next_x\n",
    "\n",
    "    plt.show()\n",
    "\n",
    "\n",
    "def main():\n",
    "    plot(1, 0.1)\n",
    "    \n",
    "\n",
    "if __name__ == \"__main__\":\n",
    "    main()"
   ]
  },
  {
   "cell_type": "markdown",
   "metadata": {},
   "source": [
    "It seems there are three equilibrium points: x=0, and around 0.2 and 0.4."
   ]
  },
  {
   "cell_type": "code",
   "execution_count": null,
   "metadata": {},
   "outputs": [],
   "source": []
  }
 ],
 "metadata": {
  "kernelspec": {
   "display_name": "Python 3",
   "language": "python",
   "name": "python3"
  },
  "language_info": {
   "codemirror_mode": {
    "name": "ipython",
    "version": 3
   },
   "file_extension": ".py",
   "mimetype": "text/x-python",
   "name": "python",
   "nbconvert_exporter": "python",
   "pygments_lexer": "ipython3",
   "version": "3.8.3"
  }
 },
 "nbformat": 4,
 "nbformat_minor": 4
}
